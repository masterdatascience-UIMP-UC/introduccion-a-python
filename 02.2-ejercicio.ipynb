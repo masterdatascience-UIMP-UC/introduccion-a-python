{
 "cells": [
  {
   "cell_type": "code",
   "execution_count": 2,
   "metadata": {},
   "outputs": [
    {
     "name": "stdout",
     "output_type": "stream",
     "text": [
      "l: [12, 3, 30, 23, 4, 26, 94, 72, 74, 36, 27, 90, 84, 92, 94, 32, 67, 90, 54, 67, 23, 23, 82, 49, 3, 81, 2, 30, 50, 58, 5, 34, 84, 45, 17, 13, 99, 41, 54, 74, 99, 23, 3, 0, 39, 4, 16, 53, 64, 32, 32, 85, 54, 22, 9, 86, 80, 72, 60, 61, 90, 38, 44, 84, 35, 66, 35, 85, 97, 27, 85, 15, 97, 79, 97, 41, 31, 60, 49, 80, 26, 42, 37, 26, 31, 75, 46, 7, 91, 27, 25, 18, 79, 35, 98, 59, 7, 39, 48, 86]\n",
      "\n",
      "m: [24, 34, 92, 25, 60, 89, 24, 67, 93, 84, 61, 48, 14, 81, 8, 65, 12, 84, 92, 28, 83, 37, 83, 4, 94, 21, 15, 96, 99, 52, 82, 72, 31, 45, 5, 94, 68, 51, 70, 23, 80, 61, 45, 48, 6, 23, 35, 41, 82, 7, 52, 48, 17, 97, 29, 73, 84, 73, 85, 87, 71, 39, 89, 50, 56, 19, 48, 23, 86, 71, 78, 94, 96, 29, 31, 99, 79, 18, 7, 47, 73, 82, 53, 10, 97, 98, 57, 27, 8, 51, 78, 20, 56, 63, 76, 27, 54, 38, 32, 78]\n",
      "[0, 2, 3, 9, 13, 16, 22, 26, 30, 36, 42, 44, 46, 49, 58, 59, 64, 66, 74, 75, 90, 91]\n"
     ]
    }
   ],
   "source": [
    "# Escribir el codigo necesario para generar una lista que contenga\n",
    "# los elementos de l que no están en m\n",
    "\n",
    "import random\n",
    "\n",
    "l = [int(100*random.random()) for i in range(100)]\n",
    "m = [int(100*random.random()) for i in range(100)]\n",
    "\n",
    "print(\"l:\", l)\n",
    "print()\n",
    "print(\"m:\", m)\n",
    "\n",
    "# Escribe aquí el código\n",
    "print(list(set(l).difference(m)))"
   ]
  },
  {
   "cell_type": "code",
   "execution_count": null,
   "metadata": {},
   "outputs": [],
   "source": [
    "# Escribir el código necesario para calcular la sucesión de Fibonacci\n",
    "# para los \"n\" primeros términos, utilizando el esqueleto siguiente\n",
    "\n",
    "n = 20\n",
    "\n",
    "fib = [0, 1]  # Los dos primeros valores de la sucesión.\n",
    "\n",
    "# Escribe aquí el código\n",
    "\n",
    "\n",
    "\n"
   ]
  },
  {
   "cell_type": "code",
   "execution_count": 7,
   "metadata": {},
   "outputs": [
    {
     "name": "stdout",
     "output_type": "stream",
     "text": [
      "I will cheer for you! Enter a word: beso\n",
      "Enthusiasm level (1-10): 7\n",
      "Give me a  b! b\n",
      "Give me an e! e\n",
      "Give me an s! s\n",
      "Give me an o! o\n",
      "What does that spell?\n",
      "beso !!!\n",
      "beso !!!\n",
      "beso !!!\n",
      "beso !!!\n",
      "beso !!!\n",
      "beso !!!\n",
      "beso !!!\n"
     ]
    }
   ],
   "source": [
    "# El siguiente código hace uso de un bucle while, cuando\n",
    "# no es necesario. Escribir el código utilizando un bucle for\n",
    "\n",
    "an_letters = \"aefhilmnorsxAEFHILMNORSX\"\n",
    "word = input(\"I will cheer for you! Enter a word: \")  # Input nos pide que introduzcamos un valor por consola\n",
    "times = int(input(\"Enthusiasm level (1-10): \"))  # El valor es siempre un string, pero necesitamos un entero,\n",
    "                                                 # \"int()\" lo convierte a entero\n",
    "\n",
    "i = 0\n",
    "while i < len(word):\n",
    "    char = word[i]\n",
    "    if char in an_letters:\n",
    "        print(\"Give me an \" + char + \"! \" + char)\n",
    "    else:\n",
    "        print(\"Give me a  \" + char + \"! \" + char)\n",
    "    i += 1\n",
    "print(\"What does that spell?\")\n",
    "for i in range(times):\n",
    "    print(word, \"!!!\")"
   ]
  },
  {
   "cell_type": "code",
   "execution_count": 13,
   "metadata": {},
   "outputs": [
    {
     "name": "stdout",
     "output_type": "stream",
     "text": [
      "I will cheer for you! Enter a word: rio\n",
      "Enthusiasm level (1-10): 5\n",
      "Give me an r! r\n",
      "Give me an i! i\n",
      "Give me an o! o\n",
      "What does that spell?\n",
      "rio !!!\n",
      "rio !!!\n",
      "rio !!!\n",
      "rio !!!\n",
      "rio !!!\n"
     ]
    }
   ],
   "source": [
    "an_letters = \"aefhilmnorsxAEFHILMNORSX\"\n",
    "word = input(\"I will cheer for you! Enter a word: \")  # Input nos pide que introduzcamos un valor por consola\n",
    "times = int(input(\"Enthusiasm level (1-10): \"))  # El valor es siempre un string, pero necesitamos un entero,\n",
    "                                                 # \"int()\" lo convierte a entero\n",
    "\n",
    "i = 0\n",
    "for char in word:\n",
    "    if char in an_letters:\n",
    "        print(\"Give me an \" + char + \"! \" + char)\n",
    "    else:\n",
    "        print(\"Give me a  \" + char + \"! \" + char)\n",
    "        \n",
    "print(\"What does that spell?\")\n",
    "\n",
    "for i in range(times):\n",
    "    print(word, \"!!!\")"
   ]
  },
  {
   "cell_type": "code",
   "execution_count": 24,
   "metadata": {},
   "outputs": [
    {
     "name": "stdout",
     "output_type": "stream",
     "text": [
      "l: [1, 2, 3, 4, 5, 6]\n",
      "m: [6, 5, 4, 3, 2, 1]\n"
     ]
    }
   ],
   "source": [
    "# El siguiente código debería crear una lista \"m\"\n",
    "# que contiene los elemenos de \"l\" en orden inverso,\n",
    "# pero contiene errores.\n",
    "\n",
    "l = [1, 2, 3, 4, 5, 6]\n",
    "\n",
    "m = l[:]\n",
    "\n",
    "for i in range(len(m)//2):\n",
    "    j = len(m) - i - 1\n",
    "    temp = m[i] \n",
    "    m[i] = m[j]\n",
    "    m[j] = temp\n",
    "    \n",
    "print(\"l:\", l)\n",
    "print(\"m:\", m)"
   ]
  },
  {
   "cell_type": "code",
   "execution_count": 26,
   "metadata": {},
   "outputs": [
    {
     "name": "stdout",
     "output_type": "stream",
     "text": [
      "l: [1, 2, 3, 4, 5, 6]\n",
      "m: [6, 5, 4, 3, 2, 1]\n"
     ]
    }
   ],
   "source": [
    "l = [1, 2, 3, 4, 5, 6]\n",
    "\n",
    "m = l[:]\n",
    "\n",
    "for i in range(len(m)):\n",
    "    j = len(m) - i - 1\n",
    "    m[i] = l[j]\n",
    "    \n",
    "print(\"l:\", l)\n",
    "print(\"m:\", m)"
   ]
  },
  {
   "cell_type": "code",
   "execution_count": 27,
   "metadata": {},
   "outputs": [
    {
     "ename": "NameError",
     "evalue": "name 'primes' is not defined",
     "output_type": "error",
     "traceback": [
      "\u001b[0;31m---------------------------------------------------------------------------\u001b[0m",
      "\u001b[0;31mNameError\u001b[0m                                 Traceback (most recent call last)",
      "\u001b[0;32m<ipython-input-27-1ac3c1028267>\u001b[0m in \u001b[0;36m<module>\u001b[0;34m()\u001b[0m\n\u001b[1;32m      9\u001b[0m \u001b[0;34m\u001b[0m\u001b[0m\n\u001b[1;32m     10\u001b[0m \u001b[0;31m# Itero sobre los numeros\u001b[0m\u001b[0;34m\u001b[0m\u001b[0;34m\u001b[0m\u001b[0m\n\u001b[0;32m---> 11\u001b[0;31m \u001b[0;32mfor\u001b[0m \u001b[0mi\u001b[0m \u001b[0;32min\u001b[0m \u001b[0mrange\u001b[0m\u001b[0;34m(\u001b[0m\u001b[0mlen\u001b[0m\u001b[0;34m(\u001b[0m\u001b[0mprimes\u001b[0m\u001b[0;34m)\u001b[0m\u001b[0;34m)\u001b[0m\u001b[0;34m:\u001b[0m\u001b[0;34m\u001b[0m\u001b[0m\n\u001b[0m\u001b[1;32m     12\u001b[0m     \u001b[0;31m# go through each of 2...n\u001b[0m\u001b[0;34m\u001b[0m\u001b[0;34m\u001b[0m\u001b[0m\n\u001b[1;32m     13\u001b[0m     \u001b[0;32mfor\u001b[0m \u001b[0mj\u001b[0m \u001b[0;32min\u001b[0m \u001b[0mrange\u001b[0m\u001b[0;34m(\u001b[0m\u001b[0mlen\u001b[0m\u001b[0;34m(\u001b[0m\u001b[0mn\u001b[0m\u001b[0;34m)\u001b[0m\u001b[0;34m)\u001b[0m\u001b[0;34m:\u001b[0m\u001b[0;34m\u001b[0m\u001b[0m\n",
      "\u001b[0;31mNameError\u001b[0m: name 'primes' is not defined"
     ]
    }
   ],
   "source": [
    "# El siguiente código debería obtener los números primos que\n",
    "# existan hasta \"n\", incluyendo \"n\", pero contiene errores.\n",
    "\n",
    "n = 30\n",
    "\n",
    "# Inicializo la lista de numeros primos\n",
    "if i == 2:\n",
    "    primos.append(2)\n",
    "    \n",
    "# Itero sobre los numeros\n",
    "for i in range(len(primes)):\n",
    "    # go through each of 2...n\n",
    "    for j in range(len(n)):\n",
    "        # check if not divisible by elem of list\n",
    "        if i % j != 0:\n",
    "            primos.append(i)"
   ]
  },
  {
   "cell_type": "code",
   "execution_count": 28,
   "metadata": {},
   "outputs": [
    {
     "name": "stdout",
     "output_type": "stream",
     "text": [
      "[2, 3, 5, 7, 11, 13, 17, 19, 23, 29]\n"
     ]
    }
   ],
   "source": [
    "# El siguiente código debería obtener los números primos que\n",
    "# existan hasta \"n\", incluyendo \"n\", pero contiene errores.\n",
    "\n",
    "n = 30\n",
    "\n",
    "# Inicializo la lista de numeros primos\n",
    "primos=[2]\n",
    "    \n",
    "# Itero sobre los numeros\n",
    "for i in range(2, n+1):\n",
    "    # go through each of 2...n\n",
    "    for j in primos:\n",
    "        # check if not divisible by elem of list\n",
    "        if i % j == 0:\n",
    "            break\n",
    "    else:\n",
    "         primos.append(i)\n",
    "print(primos)"
   ]
  }
 ],
 "metadata": {
  "kernelspec": {
   "display_name": "Python 3",
   "language": "python",
   "name": "python3"
  },
  "language_info": {
   "codemirror_mode": {
    "name": "ipython",
    "version": 3
   },
   "file_extension": ".py",
   "mimetype": "text/x-python",
   "name": "python",
   "nbconvert_exporter": "python",
   "pygments_lexer": "ipython3",
   "version": "3.6.5"
  }
 },
 "nbformat": 4,
 "nbformat_minor": 2
}
