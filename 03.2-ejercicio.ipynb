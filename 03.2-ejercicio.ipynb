{
 "cells": [
  {
   "cell_type": "markdown",
   "metadata": {},
   "source": [
    "El siguiente programa imprime por pantalla las palabras más frecuentes\n",
    "que se encuentre en una cadena de caracteres, en este caso una canción.\n",
    "Sin embaro, tiene varios errores, tanto de sintaxis, como de ejecución,\n",
    "como de funcionalidad."
   ]
  },
  {
   "cell_type": "code",
   "execution_count": 22,
   "metadata": {},
   "outputs": [],
   "source": [
    "lyrics = \"\"\"Ay\n",
    "Fonsi\n",
    "DY\n",
    "Oh\n",
    "Oh no, oh no\n",
    "Oh yeah\n",
    "Diridiri, dirididi Daddy\n",
    "Go\n",
    "Sí, sabes que ya llevo un rato mirándote\n",
    "Tengo que bailar contigo hoy (DY)\n",
    "Vi que tu mirada ya estaba llamándome\n",
    "Muéstrame el camino que yo voy (Oh)\n",
    "Tú, tú eres el imán y yo soy el metal\n",
    "Me voy acercando y voy armando el plan\n",
    "Solo con pensarlo se acelera el pulso (Oh yeah)\n",
    "Ya, ya me está gustando más de lo normal\n",
    "Todos mis sentidos van pidiendo más\n",
    "Esto hay que tomarlo sin ningún apuro\n",
    "Despacito\n",
    "Quiero respirar tu cuello despacito\n",
    "Deja que te diga cosas al oído\n",
    "Para que te acuerdes si no estás conmigo\n",
    "Despacito\n",
    "Quiero desnudarte a besos despacito\n",
    "Firmo en las paredes de tu laberinto\n",
    "Y hacer de tu cuerpo todo un manuscrito (sube, sube, sube)\n",
    "(Sube, sube)\n",
    "Quiero ver bailar tu pelo\n",
    "Quiero ser tu ritmo\n",
    "Que le enseñes a mi boca\n",
    "Tus lugares favoritos (favoritos, favoritos baby)\n",
    "Déjame sobrepasar tus zonas de peligro\n",
    "Hasta provocar tus gritos\n",
    "Y que olvides tu apellido (Diridiri, dirididi Daddy)\n",
    "Si te pido un beso ven dámelo\n",
    "Yo sé que estás pensándolo\n",
    "Llevo tiempo intentándolo\n",
    "Mami, esto es dando y dándolo\n",
    "Sabes que tu corazón conmigo te hace bom, bom\n",
    "Sabes que esa beba está buscando de mi bom, bom\n",
    "Ven prueba de mi boca para ver cómo te sabe\n",
    "Quiero, quiero, quiero ver cuánto amor a ti te cabe\n",
    "Yo no tengo prisa, yo me quiero dar el viaje\n",
    "Empecemos lento, después salvaje\n",
    "Pasito a pasito, suave suavecito\n",
    "Nos vamos pegando poquito a poquito\n",
    "Cuando tú me besas con esa destreza\n",
    "Veo que eres malicia con delicadeza\n",
    "Pasito a pasito, suave suavecito\n",
    "Nos vamos pegando, poquito a poquito\n",
    "Y es que esa belleza es un rompecabezas\n",
    "Pero pa montarlo aquí tengo la pieza\n",
    "Despacito\n",
    "Quiero respirar tu cuello despacito\n",
    "Deja que te diga cosas al oído\n",
    "Para que te acuerdes si no estás conmigo\n",
    "Despacito\n",
    "Quiero desnudarte a besos despacito\n",
    "Firmo en las paredes de tu laberinto\n",
    "Y hacer de tu cuerpo todo un manuscrito (sube, sube, sube)\n",
    "(Sube, sube)\n",
    "Quiero ver bailar tu pelo\n",
    "Quiero ser tu ritmo\n",
    "Que le enseñes a mi boca\n",
    "Tus lugares favoritos (favoritos, favoritos baby)\n",
    "Déjame sobrepasar tus zonas de peligro\n",
    "Hasta provocar tus gritos\n",
    "Y que olvides tu apellido\n",
    "Despacito\n",
    "Vamos a hacerlo en una playa en Puerto Rico\n",
    "Hasta que las olas griten \"¡ay, bendito!\"\n",
    "Para que mi sello se quede contigo\n",
    "Pasito a pasito, suave suavecito\n",
    "Nos vamos pegando, poquito a poquito\n",
    "Que le enseñes a mi boca\n",
    "Tus lugares favoritos (favoritos, favoritos baby)\n",
    "Pasito a pasito, suave suavecito\n",
    "Nos vamos pegando, poquito a poquito\n",
    "Hasta provocar tus gritos\n",
    "Y que olvides tu apellido (DY)\n",
    "Despacito\n",
    "\"\"\""
   ]
  },
  {
   "cell_type": "code",
   "execution_count": 52,
   "metadata": {},
   "outputs": [],
   "source": [
    "def split_into_words(lyrics):\n",
    "    \"\"\"\n",
    "    Split a string into lowercase words, removing all punctuation characters,\n",
    "    returning the result.\n",
    "    \"\"\"\n",
    "    result = []\n",
    "    for word in lyrics.lower().split():  # lower() convierte las palabras en minusculas\n",
    "        word = word.strip(',.;()\"¡!')  # strip() elimina del incio y del final los caracteres que le pasemos\n",
    "        result.append(word)\n",
    "    return result"
   ]
  },
  {
   "cell_type": "code",
   "execution_count": 94,
   "metadata": {},
   "outputs": [],
   "source": [
    "words_clean = split_into_words(lyrics)"
   ]
  },
  {
   "cell_type": "code",
   "execution_count": 43,
   "metadata": {},
   "outputs": [],
   "source": [
    "def words_to_frequencies(lyrics):\n",
    "    \"\"\"\n",
    "    Convert words into frequencies. Return a dictionarky whose keys are the\n",
    "    words with the frequency as the value\n",
    "    \"\"\"\n",
    "    freqs = {}\n",
    "    for word in lyrics:\n",
    "        if word in freqs:\n",
    "            freqs[word] += 1\n",
    "        else:\n",
    "            freqs[word] = 1\n",
    "        # Alternativa al if anterior\n",
    "        # freqs[word] = freqs.get(word, 0) + 1\n",
    "        # Otra alternativa\n",
    "        # freqs.setdefault(word, 0)\n",
    "        # freqs[word] += 1\n",
    "    return freqs\n"
   ]
  },
  {
   "cell_type": "code",
   "execution_count": 97,
   "metadata": {},
   "outputs": [
    {
     "data": {
      "text/plain": [
       "dict_items([('ay', 2), ('fonsi', 1), ('dy', 3), ('oh', 6), ('no', 5), ('yeah', 2), ('diridiri', 2), ('dirididi', 2), ('daddy', 2), ('go', 1), ('sí', 1), ('sabes', 3), ('que', 22), ('ya', 4), ('llevo', 2), ('un', 5), ('rato', 1), ('mirándote', 1), ('tengo', 3), ('bailar', 3), ('contigo', 2), ('hoy', 1), ('vi', 1), ('tu', 15), ('mirada', 1), ('estaba', 1), ('llamándome', 1), ('muéstrame', 1), ('el', 6), ('camino', 1), ('yo', 5), ('voy', 3), ('tú', 3), ('eres', 2), ('imán', 1), ('y', 9), ('soy', 1), ('metal', 1), ('me', 4), ('acercando', 1), ('armando', 1), ('plan', 1), ('solo', 1), ('con', 3), ('pensarlo', 1), ('se', 2), ('acelera', 1), ('pulso', 1), ('está', 2), ('gustando', 1), ('más', 2), ('de', 9), ('lo', 1), ('normal', 1), ('todos', 1), ('mis', 1), ('sentidos', 1), ('van', 1), ('pidiendo', 1), ('esto', 2), ('hay', 1), ('tomarlo', 1), ('sin', 1), ('ningún', 1), ('apuro', 1), ('despacito', 10), ('quiero', 12), ('respirar', 2), ('cuello', 2), ('deja', 2), ('te', 8), ('diga', 2), ('cosas', 2), ('al', 2), ('oído', 2), ('para', 4), ('acuerdes', 2), ('si', 3), ('estás', 3), ('conmigo', 3), ('desnudarte', 2), ('a', 15), ('besos', 2), ('firmo', 2), ('en', 4), ('las', 3), ('paredes', 2), ('laberinto', 2), ('hacer', 2), ('cuerpo', 2), ('todo', 2), ('manuscrito', 2), ('sube', 10), ('ver', 4), ('pelo', 2), ('ser', 2), ('ritmo', 2), ('le', 3), ('enseñes', 3), ('mi', 6), ('boca', 4), ('tus', 8), ('lugares', 3), ('favoritos', 9), ('baby', 3), ('déjame', 2), ('sobrepasar', 2), ('zonas', 2), ('peligro', 2), ('hasta', 4), ('provocar', 3), ('gritos', 3), ('olvides', 3), ('apellido', 3), ('pido', 1), ('beso', 1), ('ven', 2), ('dámelo', 1), ('sé', 1), ('pensándolo', 1), ('tiempo', 1), ('intentándolo', 1), ('mami', 1), ('es', 3), ('dando', 1), ('dándolo', 1), ('corazón', 1), ('hace', 1), ('bom', 4), ('esa', 3), ('beba', 1), ('buscando', 1), ('prueba', 1), ('cómo', 1), ('sabe', 1), ('cuánto', 1), ('amor', 1), ('ti', 1), ('cabe', 1), ('prisa', 1), ('dar', 1), ('viaje', 1), ('empecemos', 1), ('lento', 1), ('después', 1), ('salvaje', 1), ('pasito', 8), ('suave', 4), ('suavecito', 4), ('nos', 4), ('vamos', 5), ('pegando', 4), ('poquito', 8), ('cuando', 1), ('besas', 1), ('destreza', 1), ('veo', 1), ('malicia', 1), ('delicadeza', 1), ('belleza', 1), ('rompecabezas', 1), ('pero', 1), ('pa', 1), ('montarlo', 1), ('aquí', 1), ('la', 1), ('pieza', 1), ('hacerlo', 1), ('una', 1), ('playa', 1), ('puerto', 1), ('rico', 1), ('olas', 1), ('griten', 1), ('bendito', 1), ('sello', 1), ('quede', 1)])"
      ]
     },
     "execution_count": 97,
     "metadata": {},
     "output_type": "execute_result"
    }
   ],
   "source": [
    "freqs = words_to_frequencies(words_clean)\n",
    "freqs\n",
    "max(freqs.values())\n",
    "freqs.items()"
   ]
  },
  {
   "cell_type": "code",
   "execution_count": 98,
   "metadata": {},
   "outputs": [],
   "source": [
    "def most_common_words(frequencies):\n",
    "    \"\"\"\n",
    "    Return a tuple containing:\n",
    "    * The number of occurences of a word in the first tuple element\n",
    "    * A list containing the words with that frequency\n",
    "    \"\"\"\n",
    "    values = frequencies.values()\n",
    "    best = max(values)\n",
    "    words = []\n",
    "    for word, score in frequencies.items():\n",
    "        if score == best:\n",
    "            words.append(word)\n",
    "    return (best, words)"
   ]
  },
  {
   "cell_type": "code",
   "execution_count": 100,
   "metadata": {},
   "outputs": [
    {
     "data": {
      "text/plain": [
       "(22, ['que'])"
      ]
     },
     "execution_count": 100,
     "metadata": {},
     "output_type": "execute_result"
    }
   ],
   "source": [
    "word_comun = most_common_words(freqs)\n",
    "word_comun"
   ]
  },
  {
   "cell_type": "code",
   "execution_count": 45,
   "metadata": {},
   "outputs": [],
   "source": [
    "def get_more_often_user_words(frequencies,threshold=10):\n",
    "    \"\"\"\n",
    "    Return a list of the words that are used more often, above\n",
    "    the *optional* threshold. If no threshold is passed, use 10.\n",
    "    \"\"\"\n",
    "    frecuencies = frecuencies.copy()\n",
    "    result=[]\n",
    "    while True:\n",
    "        score = most_common_words(frequencies)\n",
    "        if score[0] < threshold:\n",
    "            break\n",
    "        for w in score[1]:\n",
    "            del frequencies[w]\n",
    "        result.append(score)\n",
    "        \n",
    "    return result"
   ]
  },
  {
   "cell_type": "code",
   "execution_count": 101,
   "metadata": {},
   "outputs": [
    {
     "ename": "UnboundLocalError",
     "evalue": "local variable 'frecuencies' referenced before assignment",
     "output_type": "error",
     "traceback": [
      "\u001b[0;31m---------------------------------------------------------------------------\u001b[0m",
      "\u001b[0;31mUnboundLocalError\u001b[0m                         Traceback (most recent call last)",
      "\u001b[0;32m<ipython-input-101-b28e673efa6b>\u001b[0m in \u001b[0;36m<module>\u001b[0;34m()\u001b[0m\n\u001b[0;32m----> 1\u001b[0;31m \u001b[0mwords_mas_usadas\u001b[0m \u001b[0;34m=\u001b[0m \u001b[0mget_more_often_user_words\u001b[0m\u001b[0;34m(\u001b[0m\u001b[0mfreqs\u001b[0m\u001b[0;34m,\u001b[0m\u001b[0;34m)\u001b[0m\u001b[0;34m\u001b[0m\u001b[0m\n\u001b[0m",
      "\u001b[0;32m<ipython-input-45-aefc3b5211ec>\u001b[0m in \u001b[0;36mget_more_often_user_words\u001b[0;34m(frequencies, threshold)\u001b[0m\n\u001b[1;32m      4\u001b[0m     \u001b[0mthe\u001b[0m \u001b[0;34m*\u001b[0m\u001b[0moptional\u001b[0m\u001b[0;34m*\u001b[0m \u001b[0mthreshold\u001b[0m\u001b[0;34m.\u001b[0m \u001b[0mIf\u001b[0m \u001b[0mno\u001b[0m \u001b[0mthreshold\u001b[0m \u001b[0;32mis\u001b[0m \u001b[0mpassed\u001b[0m\u001b[0;34m,\u001b[0m \u001b[0muse\u001b[0m \u001b[0;36m10.\u001b[0m\u001b[0;34m\u001b[0m\u001b[0m\n\u001b[1;32m      5\u001b[0m     \"\"\"\n\u001b[0;32m----> 6\u001b[0;31m     \u001b[0mfrecuencies\u001b[0m \u001b[0;34m=\u001b[0m \u001b[0mfrecuencies\u001b[0m\u001b[0;34m.\u001b[0m\u001b[0mcopy\u001b[0m\u001b[0;34m(\u001b[0m\u001b[0;34m)\u001b[0m\u001b[0;34m\u001b[0m\u001b[0m\n\u001b[0m\u001b[1;32m      7\u001b[0m     \u001b[0mresult\u001b[0m\u001b[0;34m=\u001b[0m\u001b[0;34m[\u001b[0m\u001b[0;34m]\u001b[0m\u001b[0;34m\u001b[0m\u001b[0m\n\u001b[1;32m      8\u001b[0m     \u001b[0;32mwhile\u001b[0m \u001b[0;32mTrue\u001b[0m\u001b[0;34m:\u001b[0m\u001b[0;34m\u001b[0m\u001b[0m\n",
      "\u001b[0;31mUnboundLocalError\u001b[0m: local variable 'frecuencies' referenced before assignment"
     ]
    }
   ],
   "source": [
    "words_mas_usadas = get_more_often_user_words(freqs,)"
   ]
  },
  {
   "cell_type": "code",
   "execution_count": 51,
   "metadata": {},
   "outputs": [
    {
     "ename": "UnboundLocalError",
     "evalue": "local variable 'frecuencies' referenced before assignment",
     "output_type": "error",
     "traceback": [
      "\u001b[0;31m---------------------------------------------------------------------------\u001b[0m",
      "\u001b[0;31mUnboundLocalError\u001b[0m                         Traceback (most recent call last)",
      "\u001b[0;32m<ipython-input-51-67af297324a3>\u001b[0m in \u001b[0;36m<module>\u001b[0;34m()\u001b[0m\n\u001b[1;32m      2\u001b[0m \u001b[0mfreqs\u001b[0m \u001b[0;34m=\u001b[0m \u001b[0mwords_to_frequencies\u001b[0m\u001b[0;34m(\u001b[0m\u001b[0mwords_clean\u001b[0m\u001b[0;34m)\u001b[0m\u001b[0;34m\u001b[0m\u001b[0m\n\u001b[1;32m      3\u001b[0m \u001b[0;34m\u001b[0m\u001b[0m\n\u001b[0;32m----> 4\u001b[0;31m \u001b[0mget_more_often_user_words\u001b[0m\u001b[0;34m(\u001b[0m\u001b[0mfreqs\u001b[0m\u001b[0;34m,\u001b[0m \u001b[0mthreshold\u001b[0m\u001b[0;34m=\u001b[0m\u001b[0;36m5\u001b[0m\u001b[0;34m)\u001b[0m\u001b[0;34m\u001b[0m\u001b[0m\n\u001b[0m",
      "\u001b[0;32m<ipython-input-45-aefc3b5211ec>\u001b[0m in \u001b[0;36mget_more_often_user_words\u001b[0;34m(frequencies, threshold)\u001b[0m\n\u001b[1;32m      4\u001b[0m     \u001b[0mthe\u001b[0m \u001b[0;34m*\u001b[0m\u001b[0moptional\u001b[0m\u001b[0;34m*\u001b[0m \u001b[0mthreshold\u001b[0m\u001b[0;34m.\u001b[0m \u001b[0mIf\u001b[0m \u001b[0mno\u001b[0m \u001b[0mthreshold\u001b[0m \u001b[0;32mis\u001b[0m \u001b[0mpassed\u001b[0m\u001b[0;34m,\u001b[0m \u001b[0muse\u001b[0m \u001b[0;36m10.\u001b[0m\u001b[0;34m\u001b[0m\u001b[0m\n\u001b[1;32m      5\u001b[0m     \"\"\"\n\u001b[0;32m----> 6\u001b[0;31m     \u001b[0mfrecuencies\u001b[0m \u001b[0;34m=\u001b[0m \u001b[0mfrecuencies\u001b[0m\u001b[0;34m.\u001b[0m\u001b[0mcopy\u001b[0m\u001b[0;34m(\u001b[0m\u001b[0;34m)\u001b[0m\u001b[0;34m\u001b[0m\u001b[0m\n\u001b[0m\u001b[1;32m      7\u001b[0m     \u001b[0mresult\u001b[0m\u001b[0;34m=\u001b[0m\u001b[0;34m[\u001b[0m\u001b[0;34m]\u001b[0m\u001b[0;34m\u001b[0m\u001b[0m\n\u001b[1;32m      8\u001b[0m     \u001b[0;32mwhile\u001b[0m \u001b[0;32mTrue\u001b[0m\u001b[0;34m:\u001b[0m\u001b[0;34m\u001b[0m\u001b[0m\n",
      "\u001b[0;31mUnboundLocalError\u001b[0m: local variable 'frecuencies' referenced before assignment"
     ]
    }
   ],
   "source": [
    "\n",
    "words_clean = split_into_words(lyrics)\n",
    "\n",
    "freqs = words_to_frequencies(words_clean)\n",
    "\n",
    "print(\"Palabras más frecuentes con más de 10 apariciones.\")\n",
    "print(get_more_often_user_words(freqs))\n",
    "print(\"\\n\")\n",
    "print(\"Palabras más frecuentes con más de 10 apariciones.\")\n",
    "print(get_more_often_user_words(freqs, threshold=5))\n"
   ]
  },
  {
   "cell_type": "code",
   "execution_count": 87,
   "metadata": {},
   "outputs": [
    {
     "name": "stdout",
     "output_type": "stream",
     "text": [
      "0 1\n",
      "1 2\n",
      "2 3\n"
     ]
    }
   ],
   "source": [
    "lista1 = [1, 2, 3]\n",
    "for counter, value in enumerate(lista1):\n",
    "    print(counter, value)"
   ]
  }
 ],
 "metadata": {
  "kernelspec": {
   "display_name": "Python 3",
   "language": "python",
   "name": "python3"
  },
  "language_info": {
   "codemirror_mode": {
    "name": "ipython",
    "version": 3
   },
   "file_extension": ".py",
   "mimetype": "text/x-python",
   "name": "python",
   "nbconvert_exporter": "python",
   "pygments_lexer": "ipython3",
   "version": "3.6.5"
  }
 },
 "nbformat": 4,
 "nbformat_minor": 2
}
