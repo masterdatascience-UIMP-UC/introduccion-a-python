{
 "cells": [
  {
   "cell_type": "markdown",
   "metadata": {},
   "source": [
    "# Numpy\n",
    "\n",
    "* Numpy es un paquete para computación científica en Python.\n",
    "    * Entre otras cosas implementa soporte para vectores (arrays) y matrices.\n",
    "* Los arrays (`ndarray`) de `numpy` son más eficientes que las listas.\n",
    "    * Una lista en Python puede almacenar cualquier objeto de Python (`int`, `str`, etc.).\n",
    "    * Un array de numpy *solo* puede almacenar elementos del mismo tipo, utilizando los tipos propios de `numpy`, que son compatibles con los tipos de Python.\n",
    "    * Un array ocupa mucho menos espacio en memoria.\n",
    "    \n",
    " \n",
    " \n",
    "Comentario Estela.\n",
    "* Los arrays son más eficientes que las listas.\n",
    "* En python un entero es un objeto mientras que en otros lenguajes un entero es directamente un número. Con Numpy se trabajaría como en otros lenguajes es decir con números."
   ]
  },
  {
   "cell_type": "code",
   "execution_count": 1,
   "metadata": {},
   "outputs": [],
   "source": [
    "import numpy"
   ]
  },
  {
   "cell_type": "markdown",
   "metadata": {},
   "source": [
    "## Tipos de datos en numpy\n",
    "\n",
    "* `numpy` implementa sus propios tipos de datos\n",
    "\n",
    "| Data type\t    | Description |\n",
    "|---------------|-------------|\n",
    "| ``bool_``     | Boolean (True or False) stored as a byte |\n",
    "| ``int_``      | Default integer type (same as C ``long``; normally either ``int64`` or ``int32``)| \n",
    "| ``intc``      | Identical to C ``int`` (normally ``int32`` or ``int64``)| \n",
    "| ``intp``      | Integer used for indexing (same as C ``ssize_t``; normally either ``int32`` or ``int64``)| \n",
    "| ``int8``      | Byte (-128 to 127)| \n",
    "| ``int16``     | Integer (-32768 to 32767)|\n",
    "| ``int32``     | Integer (-2147483648 to 2147483647)|\n",
    "| ``int64``     | Integer (-9223372036854775808 to 9223372036854775807)| \n",
    "| ``uint8``     | Unsigned integer (0 to 255)| \n",
    "| ``uint16``    | Unsigned integer (0 to 65535)| \n",
    "| ``uint32``    | Unsigned integer (0 to 4294967295)| \n",
    "| ``uint64``    | Unsigned integer (0 to 18446744073709551615)| \n",
    "| ``float_``    | Shorthand for ``float64``.| \n",
    "| ``float16``   | Half precision float: sign bit, 5 bits exponent, 10 bits mantissa| \n",
    "| ``float32``   | Single precision float: sign bit, 8 bits exponent, 23 bits mantissa| \n",
    "| ``float64``   | Double precision float: sign bit, 11 bits exponent, 52 bits mantissa| \n",
    "| ``complex_``  | Shorthand for ``complex128``.| \n",
    "| ``complex64`` | Complex number, represented by two 32-bit floats| \n",
    "| ``complex128``| Complex number, represented by two 64-bit floats| "
   ]
  },
  {
   "cell_type": "markdown",
   "metadata": {},
   "source": [
    "## Creando un array\n",
    "\n",
    "* Un array se puede crear de diferentes maneras"
   ]
  },
  {
   "cell_type": "code",
   "execution_count": 2,
   "metadata": {},
   "outputs": [
    {
     "data": {
      "text/plain": [
       "array([1, 2, 3, 4])"
      ]
     },
     "execution_count": 2,
     "metadata": {},
     "output_type": "execute_result"
    }
   ],
   "source": [
    "# A partir de una lista\n",
    "\n",
    "numpy.array([1, 2, 3, 4])"
   ]
  },
  {
   "cell_type": "code",
   "execution_count": 3,
   "metadata": {},
   "outputs": [
    {
     "data": {
      "text/plain": [
       "array([1. , 2.2, 3. , 0. ])"
      ]
     },
     "execution_count": 3,
     "metadata": {},
     "output_type": "execute_result"
    }
   ],
   "source": [
    "# No se pueden mezclar elementos de diferente tipo, por lo que numpy trata de convertirlos\n",
    "\n",
    "numpy.array([1, 2.2, 3, 0])  # En este caso los cambia a float"
   ]
  },
  {
   "cell_type": "code",
   "execution_count": 4,
   "metadata": {},
   "outputs": [
    {
     "data": {
      "text/plain": [
       "array(['1', '2', 'a'], dtype='<U21')"
      ]
     },
     "execution_count": 4,
     "metadata": {},
     "output_type": "execute_result"
    }
   ],
   "source": [
    "# Lo mismo sucede si mezclamos tipos numericos y no numericos\n",
    "\n",
    "numpy.array([1, 2, \"a\"])"
   ]
  },
  {
   "cell_type": "code",
   "execution_count": 5,
   "metadata": {},
   "outputs": [
    {
     "data": {
      "text/plain": [
       "array([1., 2., 3., 0.], dtype=float32)"
      ]
     },
     "execution_count": 5,
     "metadata": {},
     "output_type": "execute_result"
    }
   ],
   "source": [
    "# Podemos especificar el tipo directamente\n",
    "\n",
    "numpy.array([1, 2, 3, 0], dtype=\"float32\")  # En este caso los cambia a float"
   ]
  },
  {
   "cell_type": "code",
   "execution_count": 6,
   "metadata": {},
   "outputs": [
    {
     "data": {
      "text/plain": [
       "array(['a', 'b', 'ccc'], dtype='<U3')"
      ]
     },
     "execution_count": 6,
     "metadata": {},
     "output_type": "execute_result"
    }
   ],
   "source": [
    "# También podemos crear arrays de cadenas de caracteres\n",
    "\n",
    "numpy.array([\"a\", \"b\", \"ccc\"])"
   ]
  },
  {
   "cell_type": "code",
   "execution_count": 7,
   "metadata": {},
   "outputs": [
    {
     "data": {
      "text/plain": [
       "array([[1, 2, 3],\n",
       "       [4, 5, 6],\n",
       "       [7, 8, 9]])"
      ]
     },
     "execution_count": 7,
     "metadata": {},
     "output_type": "execute_result"
    }
   ],
   "source": [
    "# Si tenemos listas anidadas nos creará una matriz\n",
    "\n",
    "l = [[1, 2, 3], [4, 5, 6], [7, 8, 9,]]\n",
    "numpy.array(l)"
   ]
  },
  {
   "cell_type": "markdown",
   "metadata": {},
   "source": [
    "### Creando diferentes tipos de arrays\n",
    "\n",
    "* `numpy` tiene diferentes formas de crear arrays que nos serán muy útiles durante nuestro trabajo"
   ]
  },
  {
   "cell_type": "code",
   "execution_count": 8,
   "metadata": {},
   "outputs": [
    {
     "data": {
      "text/plain": [
       "array([0., 0., 0., 0., 0., 0., 0., 0., 0., 0.])"
      ]
     },
     "execution_count": 8,
     "metadata": {},
     "output_type": "execute_result"
    }
   ],
   "source": [
    "# Creando un array de ceros\n",
    "\n",
    "numpy.zeros(10)  # Por defecto son floats"
   ]
  },
  {
   "cell_type": "code",
   "execution_count": 9,
   "metadata": {},
   "outputs": [
    {
     "data": {
      "text/plain": [
       "array([0, 0, 0, 0, 0, 0, 0, 0, 0, 0])"
      ]
     },
     "execution_count": 9,
     "metadata": {},
     "output_type": "execute_result"
    }
   ],
   "source": [
    "# Creando un array de ceros\n",
    "\n",
    "numpy.zeros(10, dtype=\"int\")"
   ]
  },
  {
   "cell_type": "code",
   "execution_count": 10,
   "metadata": {},
   "outputs": [
    {
     "data": {
      "text/plain": [
       "array([1, 1, 1, 1, 1, 1, 1, 1, 1, 1])"
      ]
     },
     "execution_count": 10,
     "metadata": {},
     "output_type": "execute_result"
    }
   ],
   "source": [
    "# Creando un array de unos\n",
    "\n",
    "numpy.ones(10, dtype=\"int\")"
   ]
  },
  {
   "cell_type": "code",
   "execution_count": 11,
   "metadata": {},
   "outputs": [
    {
     "data": {
      "text/plain": [
       "array([[0, 0, 0, 0],\n",
       "       [0, 0, 0, 0],\n",
       "       [0, 0, 0, 0],\n",
       "       [0, 0, 0, 0]])"
      ]
     },
     "execution_count": 11,
     "metadata": {},
     "output_type": "execute_result"
    }
   ],
   "source": [
    "# El primer parámetro de numpy.array() (o numpy.ones(), numpy.zeros(), etc.) indica la dimensión, luego podemos hacer\n",
    "\n",
    "numpy.zeros((4, 4), dtype=\"int\")"
   ]
  },
  {
   "cell_type": "code",
   "execution_count": 12,
   "metadata": {},
   "outputs": [
    {
     "data": {
      "text/plain": [
       "array([ 0, 25, 50, 75])"
      ]
     },
     "execution_count": 12,
     "metadata": {},
     "output_type": "execute_result"
    }
   ],
   "source": [
    "# También podemos rellenar un array con una secuencia, similar a la función range() de Python\n",
    "\n",
    "numpy.arange(0, 100, 25)"
   ]
  },
  {
   "cell_type": "code",
   "execution_count": 14,
   "metadata": {},
   "outputs": [
    {
     "data": {
      "text/plain": [
       "array([0.29455662, 0.48600089, 0.70550553, 0.97235217, 0.41795656])"
      ]
     },
     "execution_count": 14,
     "metadata": {},
     "output_type": "execute_result"
    }
   ],
   "source": [
    "# ¿Números aleatorios? También\n",
    "\n",
    "numpy.random.random(5)"
   ]
  },
  {
   "cell_type": "markdown",
   "metadata": {},
   "source": [
    "## Propiedades y atributos de los arrays\n",
    "\n",
    "* A un array se puede acceder de forma similar a una lista (indexing, slicing, etc.)\n",
    "* Con arrays se pueden realizar operaciones, de forma similar a las litas.\n",
    "* Como todo objeto en Python, podemos acceder a los atributos de los arrays."
   ]
  },
  {
   "cell_type": "code",
   "execution_count": 15,
   "metadata": {},
   "outputs": [],
   "source": [
    "a = numpy.random.randint(10, size=4)  # 1 dimension\n",
    "b = numpy.random.randint(10, size=(3, 3))  # 2 dimensiones\n",
    "c = numpy.random.randint(10, size=(3, 3, 3))  # 3 dimensiones"
   ]
  },
  {
   "cell_type": "code",
   "execution_count": 16,
   "metadata": {},
   "outputs": [
    {
     "name": "stdout",
     "output_type": "stream",
     "text": [
      "[4 2 8 7]\n",
      "--\n",
      "[[7 1 1]\n",
      " [4 1 2]\n",
      " [0 1 7]]\n",
      "--\n",
      "[[[0 6 4]\n",
      "  [1 0 3]\n",
      "  [8 5 5]]\n",
      "\n",
      " [[8 8 7]\n",
      "  [4 3 8]\n",
      "  [9 9 3]]\n",
      "\n",
      " [[7 1 6]\n",
      "  [9 9 9]\n",
      "  [3 0 1]]]\n"
     ]
    }
   ],
   "source": [
    "print(a)\n",
    "print(\"--\")\n",
    "print(b)\n",
    "print(\"--\")\n",
    "print(c)"
   ]
  },
  {
   "cell_type": "markdown",
   "metadata": {},
   "source": [
    "### Indexing"
   ]
  },
  {
   "cell_type": "code",
   "execution_count": 17,
   "metadata": {},
   "outputs": [
    {
     "name": "stdout",
     "output_type": "stream",
     "text": [
      "2\n",
      "7\n",
      "3\n"
     ]
    }
   ],
   "source": [
    "print(a[1])\n",
    "print(b[2, 2])\n",
    "print(c[1, 1, 1])"
   ]
  },
  {
   "cell_type": "code",
   "execution_count": 18,
   "metadata": {},
   "outputs": [
    {
     "name": "stdout",
     "output_type": "stream",
     "text": [
      "7\n",
      "1\n",
      "1\n"
     ]
    }
   ],
   "source": [
    "print(a[-1])\n",
    "print(b[-2, -2])\n",
    "print(c[-1, -1, -1])"
   ]
  },
  {
   "cell_type": "code",
   "execution_count": 19,
   "metadata": {},
   "outputs": [
    {
     "name": "stdout",
     "output_type": "stream",
     "text": [
      "[120   2   8   7]\n"
     ]
    }
   ],
   "source": [
    "# También podemos asignar elementos\n",
    "\n",
    "a[0] = 120\n",
    "print(a)"
   ]
  },
  {
   "cell_type": "markdown",
   "metadata": {},
   "source": [
    "* Una característica muy interesante es que se pueden seleccionar elementos a partir de otro array o bien a partir de una lista, incluso un array de booleanos."
   ]
  },
  {
   "cell_type": "code",
   "execution_count": 25,
   "metadata": {},
   "outputs": [
    {
     "data": {
      "text/plain": [
       "array([5, 0, 8, 8, 0, 6, 3, 5, 6, 2, 1, 6, 4, 8, 7, 0, 8, 0, 3, 9, 0, 7,\n",
       "       0, 1, 3, 1, 4, 0, 4, 2, 1, 1, 2, 5, 9, 8, 9, 4, 7, 1, 9, 8, 1, 5,\n",
       "       2, 2, 8, 2, 7, 7, 3, 0, 8, 9, 8, 4, 3, 9, 8, 1, 0, 1, 2, 6, 9, 5,\n",
       "       9, 1, 3, 2, 8, 5, 4, 3, 0, 0, 1, 0, 4, 3, 9, 5, 8, 8, 4, 4, 8, 9,\n",
       "       8, 5, 1, 0, 5, 1, 8, 9, 1, 6, 5, 3])"
      ]
     },
     "execution_count": 25,
     "metadata": {},
     "output_type": "execute_result"
    }
   ],
   "source": [
    "z = numpy.random.randint(10, size=100)\n",
    "z"
   ]
  },
  {
   "cell_type": "code",
   "execution_count": 21,
   "metadata": {},
   "outputs": [
    {
     "data": {
      "text/plain": [
       "array([0, 6, 0, 3])"
      ]
     },
     "execution_count": 21,
     "metadata": {},
     "output_type": "execute_result"
    }
   ],
   "source": [
    "select = numpy.array([1, 10, 20, 99])\n",
    "\n",
    "z[select]"
   ]
  },
  {
   "cell_type": "code",
   "execution_count": 22,
   "metadata": {},
   "outputs": [
    {
     "data": {
      "text/plain": [
       "array([0, 6, 0, 3])"
      ]
     },
     "execution_count": 22,
     "metadata": {},
     "output_type": "execute_result"
    }
   ],
   "source": [
    "z[[1, 10, 20, 99]]"
   ]
  },
  {
   "cell_type": "code",
   "execution_count": 23,
   "metadata": {},
   "outputs": [
    {
     "data": {
      "text/plain": [
       "array([1, 3])"
      ]
     },
     "execution_count": 23,
     "metadata": {},
     "output_type": "execute_result"
    }
   ],
   "source": [
    "z = numpy.array([1, 2, 3, 4])\n",
    "z[[True, False, True, False]]"
   ]
  },
  {
   "cell_type": "markdown",
   "metadata": {},
   "source": [
    "### Slicing \n",
    "\n",
    "* Podemos obtener _slices_ de forma similar a las listas (`[start:stop:step]`).\n",
    "* Para los arrays multidimensionales es igual, separando las diferentes _slices_ por comas"
   ]
  },
  {
   "cell_type": "code",
   "execution_count": 28,
   "metadata": {},
   "outputs": [
    {
     "name": "stdout",
     "output_type": "stream",
     "text": [
      "[2 8]\n",
      "[[1 2]\n",
      " [1 7]]\n"
     ]
    }
   ],
   "source": [
    "print(a[1:3])\n",
    "print(b[1:3, 1:3])\n"
   ]
  },
  {
   "cell_type": "markdown",
   "metadata": {},
   "source": [
    "* *OJO*: Un slice de numpy *NO* crea una copia!!!\n",
    "* Si se quiere crear una copia hay que utilziar `.copy()`"
   ]
  },
  {
   "cell_type": "code",
   "execution_count": 29,
   "metadata": {},
   "outputs": [
    {
     "name": "stdout",
     "output_type": "stream",
     "text": [
      "[0 0 0 0 0 0 0 0 0 0]\n"
     ]
    }
   ],
   "source": [
    "test = numpy.zeros(10, dtype=\"int\")\n",
    "print(test)"
   ]
  },
  {
   "cell_type": "code",
   "execution_count": 30,
   "metadata": {},
   "outputs": [
    {
     "name": "stdout",
     "output_type": "stream",
     "text": [
      "[0 0 0]\n"
     ]
    }
   ],
   "source": [
    "aux = test[5:8]\n",
    "print(aux)"
   ]
  },
  {
   "cell_type": "code",
   "execution_count": 31,
   "metadata": {},
   "outputs": [
    {
     "name": "stdout",
     "output_type": "stream",
     "text": [
      "[1 2 3]\n"
     ]
    }
   ],
   "source": [
    "aux[0] = 1\n",
    "aux[1] = 2\n",
    "aux[2] = 3\n",
    "print(aux)"
   ]
  },
  {
   "cell_type": "code",
   "execution_count": 32,
   "metadata": {},
   "outputs": [
    {
     "name": "stdout",
     "output_type": "stream",
     "text": [
      "[0 0 0 0 0 1 2 3 0 0]\n"
     ]
    }
   ],
   "source": [
    "print(test)"
   ]
  },
  {
   "cell_type": "markdown",
   "metadata": {},
   "source": [
    "### Seleccionando columnas o filas completas\n",
    "\n",
    "* Se puede hacer de forma similar a un slice, pero utilizando también un índice"
   ]
  },
  {
   "cell_type": "code",
   "execution_count": 33,
   "metadata": {},
   "outputs": [
    {
     "data": {
      "text/plain": [
       "array([[3, 0, 9, 2, 7, 1, 4, 0, 6, 2],\n",
       "       [2, 5, 1, 4, 1, 0, 6, 3, 4, 1],\n",
       "       [4, 3, 8, 5, 1, 1, 0, 1, 6, 5],\n",
       "       [4, 8, 5, 7, 5, 7, 7, 0, 0, 5],\n",
       "       [9, 8, 5, 7, 0, 6, 2, 4, 3, 6],\n",
       "       [1, 8, 1, 7, 7, 2, 1, 5, 4, 8],\n",
       "       [4, 8, 4, 6, 5, 3, 6, 6, 3, 0],\n",
       "       [0, 5, 7, 6, 3, 7, 1, 7, 6, 8],\n",
       "       [4, 9, 2, 0, 8, 1, 6, 6, 6, 7],\n",
       "       [1, 4, 1, 5, 5, 2, 1, 7, 4, 6]])"
      ]
     },
     "execution_count": 33,
     "metadata": {},
     "output_type": "execute_result"
    }
   ],
   "source": [
    "matrix = numpy.random.randint(10, size=(10,10))\n",
    "matrix"
   ]
  },
  {
   "cell_type": "code",
   "execution_count": 41,
   "metadata": {},
   "outputs": [
    {
     "data": {
      "text/plain": [
       "array([1, 0, 1, 7, 6, 2, 3, 7, 1, 2])"
      ]
     },
     "execution_count": 41,
     "metadata": {},
     "output_type": "execute_result"
    }
   ],
   "source": [
    "matrix[:,5]  # Columna 5"
   ]
  },
  {
   "cell_type": "code",
   "execution_count": 39,
   "metadata": {},
   "outputs": [
    {
     "data": {
      "text/plain": [
       "array([9, 8, 5, 7, 0, 6, 2, 4, 3, 6])"
      ]
     },
     "execution_count": 39,
     "metadata": {},
     "output_type": "execute_result"
    }
   ],
   "source": [
    "matrix[4,:]  # Fila 4\n"
   ]
  },
  {
   "cell_type": "markdown",
   "metadata": {},
   "source": [
    "### Atributos\n",
    "\n",
    "* Los arrays de numpy tienen diferentes atributos que nos dan información del array"
   ]
  },
  {
   "cell_type": "code",
   "execution_count": 36,
   "metadata": {},
   "outputs": [
    {
     "name": "stdout",
     "output_type": "stream",
     "text": [
      "dimension: 1\n",
      "    forma: (4,)\n",
      "   tamaño: 4\n",
      "     tipo: int64\n"
     ]
    }
   ],
   "source": [
    "print(\"dimension:\", a.ndim)\n",
    "print(\"    forma:\", a.shape)\n",
    "print(\"   tamaño:\", a.size)\n",
    "print(\"     tipo:\", a.dtype)"
   ]
  },
  {
   "cell_type": "code",
   "execution_count": 42,
   "metadata": {},
   "outputs": [
    {
     "name": "stdout",
     "output_type": "stream",
     "text": [
      "dimension: 2\n",
      "    forma: (3, 3)\n",
      "   tamaño: 9\n",
      "     tipo: int64\n"
     ]
    }
   ],
   "source": [
    "print(\"dimension:\", b.ndim)\n",
    "print(\"    forma:\", b.shape)\n",
    "print(\"   tamaño:\", b.size)\n",
    "print(\"     tipo:\", b.dtype)"
   ]
  },
  {
   "cell_type": "code",
   "execution_count": 43,
   "metadata": {},
   "outputs": [
    {
     "name": "stdout",
     "output_type": "stream",
     "text": [
      "dimension: 3\n",
      "    forma: (3, 3, 3)\n",
      "   tamaño: 27\n",
      "     tipo: int64\n"
     ]
    }
   ],
   "source": [
    "print(\"dimension:\", c.ndim)\n",
    "print(\"    forma:\", c.shape)\n",
    "print(\"   tamaño:\", c.size)\n",
    "print(\"     tipo:\", c.dtype)"
   ]
  },
  {
   "cell_type": "markdown",
   "metadata": {},
   "source": [
    "## Métodos de los arrays de numpy\n",
    "\n",
    "* Un método muy útil es `.reshape()`, que cambia la forma de un array según la nueva dimensión que le demos"
   ]
  },
  {
   "cell_type": "code",
   "execution_count": 44,
   "metadata": {},
   "outputs": [
    {
     "data": {
      "text/plain": [
       "array([[0., 0., 0., 0.],\n",
       "       [0., 0., 0., 0.],\n",
       "       [0., 0., 0., 0.]])"
      ]
     },
     "execution_count": 44,
     "metadata": {},
     "output_type": "execute_result"
    }
   ],
   "source": [
    "# Cambia la forma de un array a las nuevas dimensiones\n",
    "\n",
    "numpy.zeros(12).reshape(3, 4)"
   ]
  },
  {
   "cell_type": "code",
   "execution_count": 45,
   "metadata": {},
   "outputs": [
    {
     "data": {
      "text/plain": [
       "array([[0., 0., 0.],\n",
       "       [0., 0., 0.],\n",
       "       [0., 0., 0.],\n",
       "       [0., 0., 0.]])"
      ]
     },
     "execution_count": 45,
     "metadata": {},
     "output_type": "execute_result"
    }
   ],
   "source": [
    "numpy.zeros(12).reshape(4, 3)"
   ]
  },
  {
   "cell_type": "code",
   "execution_count": 46,
   "metadata": {},
   "outputs": [
    {
     "ename": "ValueError",
     "evalue": "cannot reshape array of size 12 into shape (4,4)",
     "output_type": "error",
     "traceback": [
      "\u001b[0;31m---------------------------------------------------------------------------\u001b[0m",
      "\u001b[0;31mValueError\u001b[0m                                Traceback (most recent call last)",
      "\u001b[0;32m<ipython-input-46-d3c9a68a963a>\u001b[0m in \u001b[0;36m<module>\u001b[0;34m()\u001b[0m\n\u001b[1;32m      1\u001b[0m \u001b[0;31m# Ojo! La nueva dimensión tiene que corresponder con el tamaño original\u001b[0m\u001b[0;34m\u001b[0m\u001b[0;34m\u001b[0m\u001b[0m\n\u001b[0;32m----> 2\u001b[0;31m \u001b[0mnumpy\u001b[0m\u001b[0;34m.\u001b[0m\u001b[0mzeros\u001b[0m\u001b[0;34m(\u001b[0m\u001b[0;36m12\u001b[0m\u001b[0;34m)\u001b[0m\u001b[0;34m.\u001b[0m\u001b[0mreshape\u001b[0m\u001b[0;34m(\u001b[0m\u001b[0;36m4\u001b[0m\u001b[0;34m,\u001b[0m \u001b[0;36m4\u001b[0m\u001b[0;34m)\u001b[0m\u001b[0;34m\u001b[0m\u001b[0m\n\u001b[0m",
      "\u001b[0;31mValueError\u001b[0m: cannot reshape array of size 12 into shape (4,4)"
     ]
    }
   ],
   "source": [
    "# Ojo! La nueva dimensión tiene que corresponder con el tamaño original\n",
    "numpy.zeros(12).reshape(4, 4)"
   ]
  },
  {
   "cell_type": "code",
   "execution_count": 47,
   "metadata": {},
   "outputs": [
    {
     "data": {
      "text/plain": [
       "array([[0.],\n",
       "       [0.],\n",
       "       [0.],\n",
       "       [0.],\n",
       "       [0.],\n",
       "       [0.],\n",
       "       [0.],\n",
       "       [0.],\n",
       "       [0.],\n",
       "       [0.],\n",
       "       [0.],\n",
       "       [0.]])"
      ]
     },
     "execution_count": 47,
     "metadata": {},
     "output_type": "execute_result"
    }
   ],
   "source": [
    "# Vector columna\n",
    "\n",
    "numpy.zeros(12).reshape(12, 1)"
   ]
  },
  {
   "cell_type": "markdown",
   "metadata": {},
   "source": [
    "* Si la dimensión es >2, se puede utilizar el atributo `.T` o el método `.transpose()`."
   ]
  },
  {
   "cell_type": "code",
   "execution_count": 48,
   "metadata": {},
   "outputs": [
    {
     "name": "stdout",
     "output_type": "stream",
     "text": [
      "[[7 0]\n",
      " [7 0]]\n",
      "[[7 7]\n",
      " [0 0]]\n",
      "[[7 7]\n",
      " [0 0]]\n"
     ]
    }
   ],
   "source": [
    "# Pero también podemos obtener el transpuesto a través del atributo .T, si la dimensión es mayor a 2\n",
    "\n",
    "x = numpy.random.randint(10, size=(2, 2))\n",
    "print(x)\n",
    "print(x.T)\n",
    "print(x.transpose())"
   ]
  },
  {
   "cell_type": "markdown",
   "metadata": {},
   "source": [
    "### Reducciones\n",
    "\n",
    "* Hay métodos que implementan operaciones de reducción que podríamos hacer con funciones de la librería estándar de Python.\n",
    "    * `min`, `max`, `sum`, etc.\n",
    "* Pese a que estas operaciones se pueden hacer con las funciones equivalentes de Python, los métodos de los arrays de numpy son mucho más eficientes."
   ]
  },
  {
   "cell_type": "code",
   "execution_count": 49,
   "metadata": {},
   "outputs": [],
   "source": [
    "x = numpy.random.random(10000000)"
   ]
  },
  {
   "cell_type": "code",
   "execution_count": 50,
   "metadata": {},
   "outputs": [
    {
     "data": {
      "text/plain": [
       "0.9999999844653938"
      ]
     },
     "execution_count": 50,
     "metadata": {},
     "output_type": "execute_result"
    }
   ],
   "source": [
    "max(x) # funcion de python"
   ]
  },
  {
   "cell_type": "code",
   "execution_count": 53,
   "metadata": {},
   "outputs": [
    {
     "data": {
      "text/plain": [
       "0.9999999844653938"
      ]
     },
     "execution_count": 53,
     "metadata": {},
     "output_type": "execute_result"
    }
   ],
   "source": [
    "x.max() #metodo de numpy son más eficientes."
   ]
  },
  {
   "cell_type": "code",
   "execution_count": 54,
   "metadata": {},
   "outputs": [
    {
     "name": "stdout",
     "output_type": "stream",
     "text": [
      "1.42 s ± 83.1 ms per loop (mean ± std. dev. of 7 runs, 10 loops each)\n"
     ]
    }
   ],
   "source": [
    "# %timeit, en Jupyter, ejecuta una instrucción N veces midiendo su tiempo de ejecución\n",
    "\n",
    "%timeit -n 10 max(x)"
   ]
  },
  {
   "cell_type": "code",
   "execution_count": 55,
   "metadata": {},
   "outputs": [
    {
     "name": "stdout",
     "output_type": "stream",
     "text": [
      "45.7 ms ± 4.78 ms per loop (mean ± std. dev. of 7 runs, 10 loops each)\n"
     ]
    }
   ],
   "source": [
    "%timeit -n 10 x.max()"
   ]
  },
  {
   "cell_type": "code",
   "execution_count": 58,
   "metadata": {},
   "outputs": [
    {
     "data": {
      "text/plain": [
       "nan"
      ]
     },
     "execution_count": 58,
     "metadata": {},
     "output_type": "execute_result"
    }
   ],
   "source": [
    "numpy.nan==numpy.nan\n",
    "numpy.nan!=numpy.nan\n",
    "numpy.nan+5000"
   ]
  },
  {
   "cell_type": "markdown",
   "metadata": {},
   "source": [
    "* Existen muchos [metodos en la clase arrray](https://docs.scipy.org/doc/numpy-1.15.1/reference/generated/numpy.ndarray.html?highlight=ndarray#numpy.ndarray) que debemos utilizar en estos casos.\n",
    "\n",
    "|Function Name      |   NaN-safe Version  | Description                                   |\n",
    "|-------------------|---------------------|-----------------------------------------------|\n",
    "| ``np.sum``        | ``np.nansum``       | Compute sum of elements                       |\n",
    "| ``np.prod``       | ``np.nanprod``      | Compute product of elements                   |\n",
    "| ``np.mean``       | ``np.nanmean``      | Compute mean of elements                      |\n",
    "| ``np.std``        | ``np.nanstd``       | Compute standard deviation                    |\n",
    "| ``np.var``        | ``np.nanvar``       | Compute variance                              |\n",
    "| ``np.min``        | ``np.nanmin``       | Find minimum value                            |\n",
    "| ``np.max``        | ``np.nanmax``       | Find maximum value                            |\n",
    "| ``np.argmin``     | ``np.nanargmin``    | Find index of minimum value                   |\n",
    "| ``np.argmax``     | ``np.nanargmax``    | Find index of maximum value                   |\n",
    "| ``np.median``     | ``np.nanmedian``    | Compute median of elements                    |\n",
    "| ``np.percentile`` | ``np.nanpercentile``| Compute rank-based statistics of elements     |\n",
    "| ``np.any``        | N/A                 | Evaluate whether any elements are true        |\n",
    "| ``np.all``        | N/A                 | Evaluate whether all elements are true        |"
   ]
  },
  {
   "cell_type": "code",
   "execution_count": 59,
   "metadata": {},
   "outputs": [
    {
     "name": "stdout",
     "output_type": "stream",
     "text": [
      "1.54 s ± 27.3 ms per loop (mean ± std. dev. of 7 runs, 10 loops each)\n"
     ]
    }
   ],
   "source": [
    "# Ejemplo, sumatorio en Python\n",
    "\n",
    "%timeit -n 10 sum(x)"
   ]
  },
  {
   "cell_type": "code",
   "execution_count": 60,
   "metadata": {},
   "outputs": [
    {
     "name": "stdout",
     "output_type": "stream",
     "text": [
      "28.6 ms ± 2.74 ms per loop (mean ± std. dev. of 7 runs, 10 loops each)\n"
     ]
    }
   ],
   "source": [
    "%timeit -n 10 x.sum()"
   ]
  },
  {
   "cell_type": "code",
   "execution_count": 61,
   "metadata": {},
   "outputs": [
    {
     "data": {
      "text/plain": [
       "(0.4998396877774963, 0.28868666532419557)"
      ]
     },
     "execution_count": 61,
     "metadata": {},
     "output_type": "execute_result"
    }
   ],
   "source": [
    "# Ejemplo: media, mediana y desviación estándar\n",
    "\n",
    "x.mean(), x.std()"
   ]
  },
  {
   "cell_type": "markdown",
   "metadata": {},
   "source": [
    "* En arrays multidimensionales estos métodos operan con todo el array.\n",
    "* Se puede especificar si se desea realizar la operación por columnas o por filas, mediante el parámetro `axis`."
   ]
  },
  {
   "cell_type": "code",
   "execution_count": 62,
   "metadata": {},
   "outputs": [
    {
     "data": {
      "text/plain": [
       "array([[93, 86, 72, 71, 20,  4, 85, 39, 73, 47],\n",
       "       [57, 97, 57, 37, 76, 69, 87, 87,  4, 90],\n",
       "       [ 3, 53, 16, 35, 97,  4, 99, 97, 96, 40],\n",
       "       [20, 91,  3, 22, 77, 88,  6, 16, 23, 56],\n",
       "       [16, 18, 30, 47,  0, 65, 27, 98, 68, 37],\n",
       "       [99, 76, 45, 96, 65, 12, 57, 58, 28, 79],\n",
       "       [77, 26, 81, 82, 53, 25, 77, 57, 14, 17],\n",
       "       [71, 48, 29, 42, 34, 79, 25, 67, 89, 42],\n",
       "       [92, 76, 16, 84, 92, 48, 21, 48,  0, 94],\n",
       "       [79, 36, 48, 97, 12, 32, 28, 85, 75, 22]])"
      ]
     },
     "execution_count": 62,
     "metadata": {},
     "output_type": "execute_result"
    }
   ],
   "source": [
    "x = numpy.random.randint(100, size=(10,10))\n",
    "x"
   ]
  },
  {
   "cell_type": "code",
   "execution_count": 63,
   "metadata": {},
   "outputs": [
    {
     "data": {
      "text/plain": [
       "99"
      ]
     },
     "execution_count": 63,
     "metadata": {},
     "output_type": "execute_result"
    }
   ],
   "source": [
    "x.max()  # Máximo de toda la matriz"
   ]
  },
  {
   "cell_type": "code",
   "execution_count": 64,
   "metadata": {},
   "outputs": [
    {
     "data": {
      "text/plain": [
       "array([99, 97, 81, 97, 97, 88, 99, 98, 96, 94])"
      ]
     },
     "execution_count": 64,
     "metadata": {},
     "output_type": "execute_result"
    }
   ],
   "source": [
    "x.max(axis=0)  # Máximo de cada una de las columnas"
   ]
  },
  {
   "cell_type": "code",
   "execution_count": 65,
   "metadata": {},
   "outputs": [
    {
     "data": {
      "text/plain": [
       "array([93, 97, 99, 91, 98, 99, 82, 89, 94, 97])"
      ]
     },
     "execution_count": 65,
     "metadata": {},
     "output_type": "execute_result"
    }
   ],
   "source": [
    "x.max(axis=1)  # Máximo de cada una de las filas"
   ]
  },
  {
   "cell_type": "markdown",
   "metadata": {},
   "source": [
    "## Operaciones con arrays\n",
    "\n",
    "* Pese a que hemos visto que numpy es muy rápido, hay que saber utilizarlo.\n",
    "* Si no se utiliza de la forma correcta, puede llegar a ser muy lento.\n",
    "* Ejemplo, calcular el cuadrado de los elementos de un array"
   ]
  },
  {
   "cell_type": "code",
   "execution_count": 66,
   "metadata": {},
   "outputs": [],
   "source": [
    "def calculate_square(array):\n",
    "    output = numpy.empty(len(array))\n",
    "    for idx, num in enumerate(array):\n",
    "        output[idx] = num**2\n",
    "    return output"
   ]
  },
  {
   "cell_type": "code",
   "execution_count": 67,
   "metadata": {},
   "outputs": [
    {
     "name": "stdout",
     "output_type": "stream",
     "text": [
      "[28 22 75 80 14]\n",
      "[ 784.  484. 5625. 6400.  196.]\n"
     ]
    }
   ],
   "source": [
    "x = numpy.random.randint(1, 100, size=5)\n",
    "print(x)\n",
    "print(calculate_square(x))"
   ]
  },
  {
   "cell_type": "code",
   "execution_count": 68,
   "metadata": {},
   "outputs": [
    {
     "name": "stdout",
     "output_type": "stream",
     "text": [
      "33.6 s ± 529 ms per loop (mean ± std. dev. of 7 runs, 1 loop each)\n"
     ]
    }
   ],
   "source": [
    "y = numpy.random.randint(1, 100, size=50000000)\n",
    "%timeit calculate_square(y)"
   ]
  },
  {
   "cell_type": "markdown",
   "metadata": {},
   "source": [
    "* Utilizar un bucle para operar con un array es *muy* lento.\n",
    "* Numpy implementa operaciones aritméticas específicas, que operan sobre todos los elementos del array: _element wise_ "
   ]
  },
  {
   "cell_type": "code",
   "execution_count": 69,
   "metadata": {},
   "outputs": [
    {
     "name": "stdout",
     "output_type": "stream",
     "text": [
      "[28 22 75 80 14]\n",
      "[ 784.  484. 5625. 6400.  196.]\n",
      "[ 784  484 5625 6400  196]\n"
     ]
    }
   ],
   "source": [
    "print(x)\n",
    "print(calculate_square(x))\n",
    "print(x**2)"
   ]
  },
  {
   "cell_type": "code",
   "execution_count": null,
   "metadata": {},
   "outputs": [],
   "source": [
    "%timeit y**2"
   ]
  },
  {
   "cell_type": "code",
   "execution_count": 70,
   "metadata": {},
   "outputs": [
    {
     "data": {
      "text/plain": [
       "array([ True,  True,  True, ...,  True,  True,  True])"
      ]
     },
     "execution_count": 70,
     "metadata": {},
     "output_type": "execute_result"
    }
   ],
   "source": [
    "# También funciona con operaciones booleanas\n",
    "\n",
    "y > 10"
   ]
  },
  {
   "cell_type": "markdown",
   "metadata": {},
   "source": [
    "* Teniendo en cuenta esto, podemos combinarlo con el indexing para realizar accesos muy potentes."
   ]
  },
  {
   "cell_type": "code",
   "execution_count": 71,
   "metadata": {},
   "outputs": [
    {
     "data": {
      "text/plain": [
       "array([95, 92, 96, ..., 95, 95, 91])"
      ]
     },
     "execution_count": 71,
     "metadata": {},
     "output_type": "execute_result"
    }
   ],
   "source": [
    "# Ejemplo: seleccionar valores de y que sean mayores de 90\n",
    "\n",
    "y[y > 90]"
   ]
  },
  {
   "cell_type": "markdown",
   "metadata": {},
   "source": [
    "## Cargando datasets desde ficheros\n",
    "\n",
    "* Numpy tiene algunas funciones para leer datasets que estén en ficheros: https://docs.scipy.org/doc/numpy/reference/routines.io.html\n",
    "* [`numpy.loadtxt()`](https://docs.scipy.org/doc/numpy/reference/generated/numpy.loadtxt.html#numpy.loadtxt) lee un fichero en csv."
   ]
  }
 ],
 "metadata": {
  "kernelspec": {
   "display_name": "Python 3",
   "language": "python",
   "name": "python3"
  },
  "language_info": {
   "codemirror_mode": {
    "name": "ipython",
    "version": 3
   },
   "file_extension": ".py",
   "mimetype": "text/x-python",
   "name": "python",
   "nbconvert_exporter": "python",
   "pygments_lexer": "ipython3",
   "version": "3.6.5"
  }
 },
 "nbformat": 4,
 "nbformat_minor": 2
}
